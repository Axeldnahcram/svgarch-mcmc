{
 "cells": [
  {
   "cell_type": "code",
   "execution_count": 126,
   "metadata": {},
   "outputs": [
    {
     "ename": "NameError",
     "evalue": "name 'h' is not defined",
     "output_type": "error",
     "traceback": [
      "\u001b[0;31m------------------------\u001b[0m",
      "\u001b[0;31mNameError\u001b[0mTraceback (most recent call last)",
      "\u001b[0;32m<ipython-input-126-125fc179b99b>\u001b[0m in \u001b[0;36m<module>\u001b[0;34m\u001b[0m\n\u001b[1;32m     27\u001b[0m \u001b[0;34m\u001b[0m\u001b[0m\n\u001b[1;32m     28\u001b[0m \u001b[0;32mfor\u001b[0m \u001b[0mi\u001b[0m \u001b[0;32min\u001b[0m \u001b[0mrange\u001b[0m\u001b[0;34m(\u001b[0m\u001b[0mM\u001b[0m\u001b[0;34m)\u001b[0m\u001b[0;34m:\u001b[0m\u001b[0;34m\u001b[0m\u001b[0;34m\u001b[0m\u001b[0m\n\u001b[0;32m---> 29\u001b[0;31m     \u001b[0meps\u001b[0m \u001b[0;34m=\u001b[0m \u001b[0my\u001b[0m\u001b[0;34m[\u001b[0m\u001b[0mi\u001b[0m\u001b[0;34m]\u001b[0m\u001b[0;34m*\u001b[0m\u001b[0mnp\u001b[0m\u001b[0;34m.\u001b[0m\u001b[0mexp\u001b[0m\u001b[0;34m(\u001b[0m\u001b[0mh\u001b[0m\u001b[0;34m[\u001b[0m\u001b[0mi\u001b[0m\u001b[0;34m]\u001b[0m\u001b[0;34m/\u001b[0m\u001b[0;36m2\u001b[0m\u001b[0;34m)\u001b[0m\u001b[0;34m\u001b[0m\u001b[0;34m\u001b[0m\u001b[0m\n\u001b[0m\u001b[1;32m     30\u001b[0m     \u001b[0mh\u001b[0m\u001b[0;34m[\u001b[0m\u001b[0mi\u001b[0m\u001b[0;34m]\u001b[0m \u001b[0;34m=\u001b[0m \u001b[0mmu\u001b[0m\u001b[0;34m*\u001b[0m\u001b[0;34m(\u001b[0m\u001b[0;36m1\u001b[0m\u001b[0;34m-\u001b[0m\u001b[0mphi\u001b[0m\u001b[0;34m)\u001b[0m\u001b[0;34m+\u001b[0m\u001b[0mphi\u001b[0m\u001b[0;34m*\u001b[0m\u001b[0mh\u001b[0m\u001b[0;34m[\u001b[0m\u001b[0mi\u001b[0m\u001b[0;34m]\u001b[0m\u001b[0;34m+\u001b[0m\u001b[0msigma\u001b[0m\u001b[0;34m*\u001b[0m\u001b[0mrho\u001b[0m\u001b[0;34m*\u001b[0m\u001b[0meps\u001b[0m\u001b[0;34m+\u001b[0m\u001b[0msigma\u001b[0m\u001b[0;34m*\u001b[0m\u001b[0mnp\u001b[0m\u001b[0;34m.\u001b[0m\u001b[0msqrt\u001b[0m\u001b[0;34m(\u001b[0m\u001b[0;36m1\u001b[0m\u001b[0;34m-\u001b[0m\u001b[0mrho\u001b[0m\u001b[0;34m**\u001b[0m\u001b[0;36m2\u001b[0m\u001b[0;34m)\u001b[0m\u001b[0;34m\u001b[0m\u001b[0;34m\u001b[0m\u001b[0m\n\u001b[1;32m     31\u001b[0m \u001b[0;34m\u001b[0m\u001b[0m\n",
      "\u001b[0;31mNameError\u001b[0m: name 'h' is not defined"
     ]
    }
   ],
   "source": [
    "## PARTIE 1: IMPLEMENTATION DE L'ESTIMATION CONTINUE DE LA VRAISEMBLANCE A L'AIDE D'UN FILTRE PARTICULAIRE\n",
    "\n",
    "import numpy as np\n",
    "import scipy.stats\n",
    "from scipy.stats import uniform\n",
    "import scipy.optimize\n",
    "from scipy.optimize import minimize\n",
    "import math\n",
    "import sympy\n",
    "from sympy import DiracDelta\n",
    "import matplotlib.pyplot as plt\n",
    "import random\n",
    "\n",
    "## Implementation du filtre a particule pour les SV-GARCH\n",
    "\n",
    "def compute_h_t_plus_1(h_t, mu, phi, sigma, rho, y):\n",
    "    e_t = y*np.exp(-h_t/2)\n",
    "    h_t_plus_1 = mu*(1-phi)+phi*h_t+sigma*rho*e_t + sigma*np.sqrt(1-rho**2)\n",
    "\n",
    "def initial_values(y, v, M, L, gamma, alpha, beta, phi): ## l est le lag choisit tel qu'indique dans l'article\n",
    "    v_L = [v[L] for k in range(M)]\n",
    "    for lag in range(L):\n",
    "        for i in range(M):\n",
    "            v_L[i] = (v_L[i]-gamma)/(alpha + beta*(phi*np.random.normal(0, 1, size = 1) + np.sqrt(1-phi**2)*np.random.normal(0, 1, size = 1))**2)\n",
    "    v_0 = v[L]\n",
    "    return v_0\n",
    "\n",
    "for i in range(M):\n",
    "    eps = y[i]*np.exp(h[i]/2)\n",
    "    h[i] = mu*(1-phi)+phi*h[i]+sigma*rho*eps+sigma*np.sqrt(1-rho**2)            \n",
    "    \n",
    "def particle_filtering(y, v, M, L, gamma, alpha, beta, phi): #y is an array of observed data, v is an array of simulated particles, M is the FP sample size\n",
    "    v_sim = [[0 for k in range(M)] for m in range(len(y))]\n",
    "    v_f = v_sim\n",
    "    w = [[0 for k in range(M)] for m in range(len(y))] \n",
    "    l = [[0 for k in range(M)] for m in range(len(y))] # stocke les poids lambda de chaque simulation\n",
    "    ## on chope d'abord M valeurs v_0\n",
    "    v_0 = initial_values(y, v, M, L, gamma, alpha, beta, phi)\n",
    "    v_sim[0] = v_0\n",
    "    ## on execute la partie iterative de l'algorithme\n",
    "    for t in range(1,len(y)):\n",
    "        \n",
    "        for i in range(M):\n",
    "            v_sim[t][i] = gamma + alpha*v_sim[t-1][i] + beta*v_sim[t-1][i]*(phi*np.random.normal(0, 1, size = 1) + np.sqrt(1-phi**2)*np.random.normal(0, 1, size = 1))**2 #transitive kernel h_t+1|h_t,y_t\n",
    "            w[t][i] = (2*np.pi*v_sim[t][i])**(-0.5)*math.exp(-0.5*y[t]/v_sim[t][i]**(0.5))\n",
    "        for i in range(M):\n",
    "            l[t][i] = w[t][i]/(sum(w[t]))\n",
    "        \n",
    "        #v_sorted = [[0 for k in range(M)] for l in range(len(y))]\n",
    "        v_sorted[i] = np.sort([v_sim[k][i] for k in range(len(y))])\n",
    "\n",
    "        def G(x, k, i):\n",
    "            #return uniform.cdf((x - v_sorted[i][k-1])/(v_sorted[i][k] - v_sorted[i][k-1]))\n",
    "            return uniform.cdf((x - v_sim[k-1][i])/(v_sim[k][i] - v_sim[k-1][i]))\n",
    "        def F(x, k):\n",
    "            return sum([l[k][i]*G(x, k, i) for i in range(M-1)])\n",
    "        \n",
    "        for j in range(M-1):\n",
    "            v_f[t][j] = F(v_sim[t][j], t)\n",
    "    return v_f"
   ]
  },
  {
   "cell_type": "code",
   "execution_count": 60,
   "metadata": {},
   "outputs": [],
   "source": [
    "def simulate_svgarch(gamma, alpha, beta, T):#alpha + beta < 1\n",
    "    if alpha+beta>=1:\n",
    "        raise NameError(\"Alpha + Beta must be less than 1\")\n",
    "    y = [0 for t in range(T)]\n",
    "    v = [0 for t in range(T)]\n",
    "    v[0] = gamma/(1 - alpha - beta)\n",
    "    for t in range(T-1):\n",
    "        eps = np.random.normal(0 , 1, size = 1)\n",
    "        y[t] = np.sqrt(v[t])*eps\n",
    "        v[t+1] = gamma + alpha*v[t] + beta*y[t]**2\n",
    "    return y, v"
   ]
  },
  {
   "cell_type": "code",
   "execution_count": 62,
   "metadata": {},
   "outputs": [
    {
     "data": {
      "text/plain": [
       "[<matplotlib.lines.Line2D at 0x1a1c5a2fd0>]"
      ]
     },
     "execution_count": 62,
     "metadata": {},
     "output_type": "execute_result"
    },
    {
     "data": {
      "image/png": "[encoded data removed]",
      "text/plain": [
       "<Figure size 432x288 with 1 Axes>"
      ]
     },
     "metadata": {
      "needs_background": "light"
     },
     "output_type": "display_data"
    }
   ],
   "source": [
    "y, v = simulate_svgarch(1,0.3,0.4, 200)\n",
    "plt.plot(y)"
   ]
  },
  {
   "cell_type": "code",
   "execution_count": null,
   "metadata": {},
   "outputs": [],
   "source": []
  },
  {
   "cell_type": "code",
   "execution_count": 41,
   "metadata": {},
   "outputs": [],
   "source": [
    "# definition de la log-vraisemblance\n",
    "M = 100\n",
    "l = 10\n",
    "\n",
    "def neg_log_likelihood(theta): # theta = [gamma, alpha, beta, phi]\n",
    "    filter_data = particle_filtering(y, v, M, l, theta[0], theta[1], theta[2], theta[3])\n",
    "    list_sum = []\n",
    "    for i, cur_fil in enumerate(filter_data):\n",
    "        print(f\"We are now at loop {i}\")\n",
    "        cur_sum = sum(cur_fil)\n",
    "        list_sum.append(cur_sum)\n",
    "    return -sum(np.log(list_sum))"
   ]
  },
  {
   "cell_type": "code",
   "execution_count": 42,
   "metadata": {},
   "outputs": [
    {
     "ename": "IndexError",
     "evalue": "index 1 is out of bounds for axis 0 with size 1",
     "output_type": "error",
     "traceback": [
      "\u001b[0;31m------------------------\u001b[0m",
      "\u001b[0;31mIndexError\u001b[0mTraceback (most recent call last)",
      "\u001b[0;32m<ipython-input-42-5e11b598dbb6>\u001b[0m in \u001b[0;36m<module>\u001b[0;34m\u001b[0m\n\u001b[1;32m      2\u001b[0m \u001b[0;34m\u001b[0m\u001b[0m\n\u001b[1;32m      3\u001b[0m \u001b[0mx0\u001b[0m \u001b[0;34m=\u001b[0m \u001b[0mnp\u001b[0m\u001b[0;34m.\u001b[0m\u001b[0marray\u001b[0m\u001b[0;34m(\u001b[0m\u001b[0;34m[\u001b[0m\u001b[0;36m0.1\u001b[0m\u001b[0;34m,\u001b[0m \u001b[0;36m0.1\u001b[0m\u001b[0;34m,\u001b[0m \u001b[0;36m0.1\u001b[0m\u001b[0;34m,\u001b[0m \u001b[0;36m0.1\u001b[0m\u001b[0;34m]\u001b[0m\u001b[0;34m)\u001b[0m\u001b[0;34m\u001b[0m\u001b[0;34m\u001b[0m\u001b[0m\n\u001b[0;32m----> 4\u001b[0;31m \u001b[0mmax_vrais\u001b[0m \u001b[0;34m=\u001b[0m \u001b[0;34m-\u001b[0m\u001b[0mminimize\u001b[0m\u001b[0;34m(\u001b[0m\u001b[0mneg_log_likelihood\u001b[0m\u001b[0;34m,\u001b[0m \u001b[0mx0\u001b[0m\u001b[0;34m,\u001b[0m \u001b[0mmethod\u001b[0m\u001b[0;34m=\u001b[0m\u001b[0;34m'Nelder-Mead'\u001b[0m\u001b[0;34m,\u001b[0m \u001b[0mtol\u001b[0m\u001b[0;34m=\u001b[0m\u001b[0;36m1e-6\u001b[0m\u001b[0;34m)\u001b[0m\u001b[0;34m.\u001b[0m\u001b[0mx\u001b[0m\u001b[0;34m\u001b[0m\u001b[0;34m\u001b[0m\u001b[0m\n\u001b[0m",
      "\u001b[0;32m/usr/local/anaconda3/lib/python3.7/site-packages/scipy/optimize/_minimize.py\u001b[0m in \u001b[0;36mminimize\u001b[0;34m(fun, x0, args, method, jac, hess, hessp, bounds, constraints, tol, callback, options)\u001b[0m\n\u001b[1;32m    586\u001b[0m                       callback=callback, **options)\n\u001b[1;32m    587\u001b[0m     \u001b[0;32melif\u001b[0m \u001b[0mmeth\u001b[0m \u001b[0;34m==\u001b[0m \u001b[0;34m'nelder-mead'\u001b[0m\u001b[0;34m:\u001b[0m\u001b[0;34m\u001b[0m\u001b[0;34m\u001b[0m\u001b[0m\n\u001b[0;32m--> 588\u001b[0;31m         \u001b[0;32mreturn\u001b[0m \u001b[0m_minimize_neldermead\u001b[0m\u001b[0;34m(\u001b[0m\u001b[0mfun\u001b[0m\u001b[0;34m,\u001b[0m \u001b[0mx0\u001b[0m\u001b[0;34m,\u001b[0m \u001b[0margs\u001b[0m\u001b[0;34m,\u001b[0m \u001b[0mcallback\u001b[0m\u001b[0;34m,\u001b[0m \u001b[0;34m**\u001b[0m\u001b[0moptions\u001b[0m\u001b[0;34m)\u001b[0m\u001b[0;34m\u001b[0m\u001b[0;34m\u001b[0m\u001b[0m\n\u001b[0m\u001b[1;32m    589\u001b[0m     \u001b[0;32melif\u001b[0m \u001b[0mmeth\u001b[0m \u001b[0;34m==\u001b[0m \u001b[0;34m'powell'\u001b[0m\u001b[0;34m:\u001b[0m\u001b[0;34m\u001b[0m\u001b[0;34m\u001b[0m\u001b[0m\n\u001b[1;32m    590\u001b[0m         \u001b[0;32mreturn\u001b[0m \u001b[0m_minimize_powell\u001b[0m\u001b[0;34m(\u001b[0m\u001b[0mfun\u001b[0m\u001b[0;34m,\u001b[0m \u001b[0mx0\u001b[0m\u001b[0;34m,\u001b[0m \u001b[0margs\u001b[0m\u001b[0;34m,\u001b[0m \u001b[0mcallback\u001b[0m\u001b[0;34m,\u001b[0m \u001b[0;34m**\u001b[0m\u001b[0moptions\u001b[0m\u001b[0;34m)\u001b[0m\u001b[0;34m\u001b[0m\u001b[0;34m\u001b[0m\u001b[0m\n",
      "\u001b[0;32m/usr/local/anaconda3/lib/python3.7/site-packages/scipy/optimize/optimize.py\u001b[0m in \u001b[0;36m_minimize_neldermead\u001b[0;34m(func, x0, args, callback, maxiter, maxfev, disp, return_all, initial_simplex, xatol, fatol, adaptive, **unknown_options)\u001b[0m\n\u001b[1;32m    583\u001b[0m \u001b[0;34m\u001b[0m\u001b[0m\n\u001b[1;32m    584\u001b[0m     \u001b[0;32mfor\u001b[0m \u001b[0mk\u001b[0m \u001b[0;32min\u001b[0m \u001b[0mrange\u001b[0m\u001b[0;34m(\u001b[0m\u001b[0mN\u001b[0m \u001b[0;34m+\u001b[0m \u001b[0;36m1\u001b[0m\u001b[0;34m)\u001b[0m\u001b[0;34m:\u001b[0m\u001b[0;34m\u001b[0m\u001b[0;34m\u001b[0m\u001b[0m\n\u001b[0;32m--> 585\u001b[0;31m         \u001b[0mfsim\u001b[0m\u001b[0;34m[\u001b[0m\u001b[0mk\u001b[0m\u001b[0;34m]\u001b[0m \u001b[0;34m=\u001b[0m \u001b[0mfunc\u001b[0m\u001b[0;34m(\u001b[0m\u001b[0msim\u001b[0m\u001b[0;34m[\u001b[0m\u001b[0mk\u001b[0m\u001b[0;34m]\u001b[0m\u001b[0;34m)\u001b[0m\u001b[0;34m\u001b[0m\u001b[0;34m\u001b[0m\u001b[0m\n\u001b[0m\u001b[1;32m    586\u001b[0m \u001b[0;34m\u001b[0m\u001b[0m\n\u001b[1;32m    587\u001b[0m     \u001b[0mind\u001b[0m \u001b[0;34m=\u001b[0m \u001b[0mnumpy\u001b[0m\u001b[0;34m.\u001b[0m\u001b[0margsort\u001b[0m\u001b[0;34m(\u001b[0m\u001b[0mfsim\u001b[0m\u001b[0;34m)\u001b[0m\u001b[0;34m\u001b[0m\u001b[0;34m\u001b[0m\u001b[0m\n",
      "\u001b[0;32m/usr/local/anaconda3/lib/python3.7/site-packages/scipy/optimize/optimize.py\u001b[0m in \u001b[0;36mfunction_wrapper\u001b[0;34m(*wrapper_args)\u001b[0m\n\u001b[1;32m    324\u001b[0m     \u001b[0;32mdef\u001b[0m \u001b[0mfunction_wrapper\u001b[0m\u001b[0;34m(\u001b[0m\u001b[0;34m*\u001b[0m\u001b[0mwrapper_args\u001b[0m\u001b[0;34m)\u001b[0m\u001b[0;34m:\u001b[0m\u001b[0;34m\u001b[0m\u001b[0;34m\u001b[0m\u001b[0m\n\u001b[1;32m    325\u001b[0m         \u001b[0mncalls\u001b[0m\u001b[0;34m[\u001b[0m\u001b[0;36m0\u001b[0m\u001b[0;34m]\u001b[0m \u001b[0;34m+=\u001b[0m \u001b[0;36m1\u001b[0m\u001b[0;34m\u001b[0m\u001b[0;34m\u001b[0m\u001b[0m\n\u001b[0;32m--> 326\u001b[0;31m         \u001b[0;32mreturn\u001b[0m \u001b[0mfunction\u001b[0m\u001b[0;34m(\u001b[0m\u001b[0;34m*\u001b[0m\u001b[0;34m(\u001b[0m\u001b[0mwrapper_args\u001b[0m \u001b[0;34m+\u001b[0m \u001b[0margs\u001b[0m\u001b[0;34m)\u001b[0m\u001b[0;34m)\u001b[0m\u001b[0;34m\u001b[0m\u001b[0;34m\u001b[0m\u001b[0m\n\u001b[0m\u001b[1;32m    327\u001b[0m \u001b[0;34m\u001b[0m\u001b[0m\n\u001b[1;32m    328\u001b[0m     \u001b[0;32mreturn\u001b[0m \u001b[0mncalls\u001b[0m\u001b[0;34m,\u001b[0m \u001b[0mfunction_wrapper\u001b[0m\u001b[0;34m\u001b[0m\u001b[0;34m\u001b[0m\u001b[0m\n",
      "\u001b[0;32m<ipython-input-41-5341a8ff89d4>\u001b[0m in \u001b[0;36mneg_log_likelihood\u001b[0;34m(theta)\u001b[0m\n\u001b[1;32m      4\u001b[0m \u001b[0;34m\u001b[0m\u001b[0m\n\u001b[1;32m      5\u001b[0m \u001b[0;32mdef\u001b[0m \u001b[0mneg_log_likelihood\u001b[0m\u001b[0;34m(\u001b[0m\u001b[0mtheta\u001b[0m\u001b[0;34m)\u001b[0m\u001b[0;34m:\u001b[0m \u001b[0;31m# theta = [gamma, alpha, beta, phi]\u001b[0m\u001b[0;34m\u001b[0m\u001b[0;34m\u001b[0m\u001b[0m\n\u001b[0;32m----> 6\u001b[0;31m     \u001b[0mfilter_data\u001b[0m \u001b[0;34m=\u001b[0m \u001b[0mparticle_filtering\u001b[0m\u001b[0;34m(\u001b[0m\u001b[0my\u001b[0m\u001b[0;34m,\u001b[0m \u001b[0mv\u001b[0m\u001b[0;34m,\u001b[0m \u001b[0mM\u001b[0m\u001b[0;34m,\u001b[0m \u001b[0ml\u001b[0m\u001b[0;34m,\u001b[0m \u001b[0mtheta\u001b[0m\u001b[0;34m[\u001b[0m\u001b[0;36m0\u001b[0m\u001b[0;34m]\u001b[0m\u001b[0;34m,\u001b[0m \u001b[0mtheta\u001b[0m\u001b[0;34m[\u001b[0m\u001b[0;36m1\u001b[0m\u001b[0;34m]\u001b[0m\u001b[0;34m,\u001b[0m \u001b[0mtheta\u001b[0m\u001b[0;34m[\u001b[0m\u001b[0;36m2\u001b[0m\u001b[0;34m]\u001b[0m\u001b[0;34m,\u001b[0m \u001b[0mtheta\u001b[0m\u001b[0;34m[\u001b[0m\u001b[0;36m3\u001b[0m\u001b[0;34m]\u001b[0m\u001b[0;34m)\u001b[0m\u001b[0;34m\u001b[0m\u001b[0;34m\u001b[0m\u001b[0m\n\u001b[0m\u001b[1;32m      7\u001b[0m     \u001b[0mlist_sum\u001b[0m \u001b[0;34m=\u001b[0m \u001b[0;34m[\u001b[0m\u001b[0;34m]\u001b[0m\u001b[0;34m\u001b[0m\u001b[0;34m\u001b[0m\u001b[0m\n\u001b[1;32m      8\u001b[0m     \u001b[0;32mfor\u001b[0m \u001b[0mi\u001b[0m\u001b[0;34m,\u001b[0m \u001b[0mcur_fil\u001b[0m \u001b[0;32min\u001b[0m \u001b[0menumerate\u001b[0m\u001b[0;34m(\u001b[0m\u001b[0mfilter_data\u001b[0m\u001b[0;34m)\u001b[0m\u001b[0;34m:\u001b[0m\u001b[0;34m\u001b[0m\u001b[0;34m\u001b[0m\u001b[0m\n",
      "\u001b[0;32m<ipython-input-37-a5f73ecc6894>\u001b[0m in \u001b[0;36mparticle_filtering\u001b[0;34m(y, v, M, L, gamma, alpha, beta, phi)\u001b[0m\n\u001b[1;32m     35\u001b[0m \u001b[0;34m\u001b[0m\u001b[0m\n\u001b[1;32m     36\u001b[0m         \u001b[0;32mfor\u001b[0m \u001b[0mi\u001b[0m \u001b[0;32min\u001b[0m \u001b[0mrange\u001b[0m\u001b[0;34m(\u001b[0m\u001b[0mM\u001b[0m\u001b[0;34m)\u001b[0m\u001b[0;34m:\u001b[0m\u001b[0;34m\u001b[0m\u001b[0;34m\u001b[0m\u001b[0m\n\u001b[0;32m---> 37\u001b[0;31m             \u001b[0mv_sim\u001b[0m\u001b[0;34m[\u001b[0m\u001b[0mt\u001b[0m\u001b[0;34m]\u001b[0m\u001b[0;34m[\u001b[0m\u001b[0mi\u001b[0m\u001b[0;34m]\u001b[0m \u001b[0;34m=\u001b[0m \u001b[0mgamma\u001b[0m \u001b[0;34m+\u001b[0m \u001b[0malpha\u001b[0m\u001b[0;34m*\u001b[0m\u001b[0mv_sim\u001b[0m\u001b[0;34m[\u001b[0m\u001b[0mt\u001b[0m\u001b[0;34m-\u001b[0m\u001b[0;36m1\u001b[0m\u001b[0;34m]\u001b[0m\u001b[0;34m[\u001b[0m\u001b[0mi\u001b[0m\u001b[0;34m]\u001b[0m \u001b[0;34m+\u001b[0m \u001b[0mbeta\u001b[0m\u001b[0;34m*\u001b[0m\u001b[0mv_sim\u001b[0m\u001b[0;34m[\u001b[0m\u001b[0mt\u001b[0m\u001b[0;34m-\u001b[0m\u001b[0;36m1\u001b[0m\u001b[0;34m]\u001b[0m\u001b[0;34m[\u001b[0m\u001b[0mi\u001b[0m\u001b[0;34m]\u001b[0m\u001b[0;34m*\u001b[0m\u001b[0;34m(\u001b[0m\u001b[0mphi\u001b[0m\u001b[0;34m*\u001b[0m\u001b[0mnp\u001b[0m\u001b[0;34m.\u001b[0m\u001b[0mrandom\u001b[0m\u001b[0;34m.\u001b[0m\u001b[0mnormal\u001b[0m\u001b[0;34m(\u001b[0m\u001b[0;36m0\u001b[0m\u001b[0;34m,\u001b[0m \u001b[0;36m1\u001b[0m\u001b[0;34m,\u001b[0m \u001b[0msize\u001b[0m \u001b[0;34m=\u001b[0m \u001b[0;36m1\u001b[0m\u001b[0;34m)\u001b[0m \u001b[0;34m+\u001b[0m \u001b[0mnp\u001b[0m\u001b[0;34m.\u001b[0m\u001b[0msqrt\u001b[0m\u001b[0;34m(\u001b[0m\u001b[0;36m1\u001b[0m\u001b[0;34m-\u001b[0m\u001b[0mphi\u001b[0m\u001b[0;34m**\u001b[0m\u001b[0;36m2\u001b[0m\u001b[0;34m)\u001b[0m\u001b[0;34m*\u001b[0m\u001b[0mnp\u001b[0m\u001b[0;34m.\u001b[0m\u001b[0mrandom\u001b[0m\u001b[0;34m.\u001b[0m\u001b[0mnormal\u001b[0m\u001b[0;34m(\u001b[0m\u001b[0;36m0\u001b[0m\u001b[0;34m,\u001b[0m \u001b[0;36m1\u001b[0m\u001b[0;34m,\u001b[0m \u001b[0msize\u001b[0m \u001b[0;34m=\u001b[0m \u001b[0;36m1\u001b[0m\u001b[0;34m)\u001b[0m\u001b[0;34m)\u001b[0m\u001b[0;34m**\u001b[0m\u001b[0;36m2\u001b[0m \u001b[0;31m#transitive kernel h_t+1|h_t,y_t\u001b[0m\u001b[0;34m\u001b[0m\u001b[0;34m\u001b[0m\u001b[0m\n\u001b[0m\u001b[1;32m     38\u001b[0m             \u001b[0mw\u001b[0m\u001b[0;34m[\u001b[0m\u001b[0mt\u001b[0m\u001b[0;34m]\u001b[0m\u001b[0;34m[\u001b[0m\u001b[0mi\u001b[0m\u001b[0;34m]\u001b[0m \u001b[0;34m=\u001b[0m \u001b[0;34m(\u001b[0m\u001b[0;36m2\u001b[0m\u001b[0;34m*\u001b[0m\u001b[0mnp\u001b[0m\u001b[0;34m.\u001b[0m\u001b[0mpi\u001b[0m\u001b[0;34m*\u001b[0m\u001b[0mv_sim\u001b[0m\u001b[0;34m[\u001b[0m\u001b[0mt\u001b[0m\u001b[0;34m]\u001b[0m\u001b[0;34m[\u001b[0m\u001b[0mi\u001b[0m\u001b[0;34m]\u001b[0m\u001b[0;34m)\u001b[0m\u001b[0;34m**\u001b[0m\u001b[0;34m(\u001b[0m\u001b[0;34m-\u001b[0m\u001b[0;36m0.5\u001b[0m\u001b[0;34m)\u001b[0m\u001b[0;34m*\u001b[0m\u001b[0mmath\u001b[0m\u001b[0;34m.\u001b[0m\u001b[0mexp\u001b[0m\u001b[0;34m(\u001b[0m\u001b[0;34m-\u001b[0m\u001b[0;36m0.5\u001b[0m\u001b[0;34m*\u001b[0m\u001b[0my\u001b[0m\u001b[0;34m[\u001b[0m\u001b[0mt\u001b[0m\u001b[0;34m]\u001b[0m\u001b[0;34m/\u001b[0m\u001b[0mv_sim\u001b[0m\u001b[0;34m[\u001b[0m\u001b[0mt\u001b[0m\u001b[0;34m]\u001b[0m\u001b[0;34m[\u001b[0m\u001b[0mi\u001b[0m\u001b[0;34m]\u001b[0m\u001b[0;34m**\u001b[0m\u001b[0;34m(\u001b[0m\u001b[0;36m0.5\u001b[0m\u001b[0;34m)\u001b[0m\u001b[0;34m)\u001b[0m\u001b[0;34m\u001b[0m\u001b[0;34m\u001b[0m\u001b[0m\n\u001b[1;32m     39\u001b[0m         \u001b[0;32mfor\u001b[0m \u001b[0mi\u001b[0m \u001b[0;32min\u001b[0m \u001b[0mrange\u001b[0m\u001b[0;34m(\u001b[0m\u001b[0mM\u001b[0m\u001b[0;34m)\u001b[0m\u001b[0;34m:\u001b[0m\u001b[0;34m\u001b[0m\u001b[0;34m\u001b[0m\u001b[0m\n",
      "\u001b[0;31mIndexError\u001b[0m: index 1 is out of bounds for axis 0 with size 1"
     ]
    }
   ],
   "source": [
    "#calcul du maximum de vraisemblance\n",
    "\n",
    "x0 = np.array([0.1, 0.1, 0.1, 0.1])\n",
    "max_vrais = -minimize(neg_log_likelihood, x0, method='Nelder-Mead', tol=1e-6).x"
   ]
  },
  {
   "cell_type": "code",
   "execution_count": 32,
   "metadata": {},
   "outputs": [],
   "source": [
    "## PARTIE 3: TEST SUR DES DONNEES REELLES"
   ]
  },
  {
   "cell_type": "code",
   "execution_count": 33,
   "metadata": {},
   "outputs": [
    {
     "data": {
      "text/plain": [
       "array([-0.10187596, -0.09562521, -0.10187417, -0.10187402])"
      ]
     },
     "execution_count": 33,
     "metadata": {},
     "output_type": "execute_result"
    }
   ],
   "source": [
    "max_vrais"
   ]
  },
  {
   "cell_type": "code",
   "execution_count": 160,
   "metadata": {},
   "outputs": [
    {
     "data": {
      "text/plain": [
       "[<matplotlib.lines.Line2D at 0x1a1c65ba90>]"
      ]
     },
     "execution_count": 160,
     "metadata": {},
     "output_type": "execute_result"
    },
    {
     "data": {
      "image/png": "[encoded data removed]",
      "text/plain": [
       "<Figure size 432x288 with 1 Axes>"
      ]
     },
     "metadata": {
      "needs_background": "light"
     },
     "output_type": "display_data"
    }
   ],
   "source": [
    "def simulate_svgarch(gamma, alpha, beta, phi,  T): #alpha + beta < 1\n",
    "    y = [0 for t in range(T)]\n",
    "    v = [0 for t in range(T)]\n",
    "    v[0] = gamma/(1 - alpha - beta)\n",
    "    for t in range(T-1):\n",
    "        eps = np.random.normal(0 , 1, size = 1)\n",
    "        xi = np.random.normal(0,1,size=1)\n",
    "        zeta = phi*eps+np.sqrt(1-phi**2)*xi\n",
    "        y[t] = np.sqrt(v[t])*eps\n",
    "        v[t+1] = gamma + alpha*v[t] + beta*v[t]*(zeta)**2\n",
    "    return y, v\n",
    "y, v = simulate_svgarch(1,0.3,0.4, 0.01, 200)\n",
    "plt.plot(y)\n",
    "\n"
   ]
  },
  {
   "cell_type": "code",
   "execution_count": 355,
   "metadata": {
    "code_folding": []
   },
   "outputs": [],
   "source": [
    "import random\n",
    "\n",
    "def initial_values(y, v, M, L, gamma, alpha, beta, phi): ## l est le lag choisit tel qu'indique dans l'article\n",
    "    v_L = [v[L] for k in range(M)]\n",
    "    for lag in range(L):\n",
    "        for i in range(M):\n",
    "            v_L[i] = (v_L[i]-gamma)/(alpha + beta*(phi*np.random.normal(0, 1, size = 1) + np.sqrt(1-phi**2)*np.random.normal(0, 1, size = 1))**2)\n",
    "    v_0 = v[L]\n",
    "    return v_0\n",
    "\n",
    "class sv_garch_filtering(object):\n",
    "    sigma = []\n",
    "    \n",
    "    def __init__(self, y, gamma, alpha, beta, phi, M, T, malik=False):\n",
    "        self.y = y\n",
    "        self.gamma = gamma\n",
    "        self.alpha = alpha\n",
    "        self.beta = beta\n",
    "        self.phi = phi\n",
    "        self.T = T\n",
    "        self.M = M\n",
    "        self.V = np.zeros((T,M))\n",
    "        self.W = np.zeros((T,M))\n",
    "        self.Lambda = np.zeros((T,M))\n",
    "        self.t = 0\n",
    "        self.malik = malik\n",
    "        self.initial_values()\n",
    "        \n",
    "    \n",
    "    def initial_values(self):\n",
    "        for i in range(self.M):\n",
    "            self.V[0,i] = np.random.normal(0,1,size=1)**2\n",
    "        return self.V[0,:]\n",
    "    \n",
    "    def one_cycle(self):\n",
    "        self.next_v()\n",
    "        self.update_lambda()\n",
    "        list_new_V = []\n",
    "        for i in range(self.M):\n",
    "            if self.malik:\n",
    "                new_v = self.roll_malik_pitt()\n",
    "            else:\n",
    "                new_v = self.roll_discountinuous()\n",
    "            list_new_V.append(new_v)\n",
    "        self.V[self.t+1,:] = np.array(list_new_V)\n",
    "        self.t+=1\n",
    "    \n",
    "    def full_cycle(self):\n",
    "        for i in range(self.T-1):\n",
    "            self.one_cycle()\n",
    "        return self.V\n",
    "    \n",
    "    def next_v(self):\n",
    "        t = self.t\n",
    "        assert self.t < self.T\n",
    "        for i in range(self.M):\n",
    "            eps = self.y[t]/np.sqrt(self.V[t,i])\n",
    "            xi = np.random.normal(0,1,size=1)\n",
    "            zeta = self.phi*eps+np.sqrt(1-self.phi**2)*xi\n",
    "            self.V[t+1,i] = self.gamma + self.alpha*self.V[t,i] + self.beta*self.V[t,i]*(zeta)**2\n",
    "        \n",
    "    def update_lambda(self):\n",
    "        t = self.t\n",
    "        for i in range(self.M):\n",
    "            self.W[t+1,i] = ((2*np.pi*self.V[t+1,i])**(-0.5))*np.exp(-0.5*(self.y[t+1]**2)/np.sqrt(self.V[t+1,i]))\n",
    "        for i in range(self.M):\n",
    "            self.Lambda[t+1,i] = self.W[t+1,i]/sum(self.W[t+1,:])\n",
    "    \n",
    "    def roll_discontinuous(self):\n",
    "        t = self.t\n",
    "        number = random.uniform(0, np.sum(self.Lambda[t+1, 1:]))\n",
    "        current = 0\n",
    "        for i, bias in enumerate(self.Lambda[t+1, :]):\n",
    "            current += bias\n",
    "            if number <= current:\n",
    "                return self.V[t+1,i]\n",
    "    \n",
    "    def roll_malik_pitt(self):\n",
    "        t = self.t\n",
    "        v_order = (-self.V[t+1]).argsort()\n",
    "        v_ordered = self.V[t+1][v_order[::-1]]\n",
    "        lbd_ordered = self.Lambda[t+1][v_order[::-1]]\n",
    "        trunkated_weights = [(lbd_ordered[i+1]+lbd_ordered[i])/2 for i in range(0,self.M-1)]\n",
    "        \n",
    "        weight = np.append(trunkated_weights, [lbd_ordered[-1]/2])\n",
    "        # print(v_ordered)\n",
    "        x=np.random.uniform(v_ordered[0], v_ordered[-1])\n",
    "        v_ordered = np.append(v_ordered, np.inf)\n",
    "        tirage = self.tirage_sum(x,v_ordered, lbd_ordered)\n",
    "        return tirage\n",
    "    \n",
    "    def tirage_uniform(self, x, v_ordered, i):\n",
    "        v_ordered = np.append(v_ordered, np.inf)\n",
    "        if x<=v_ordered[i+1] and x>=v_ordered[i]:\n",
    "            return uniform.cdf((x - v_ordered[i])/(v_ordered[i+1] - v_ordered[i]))\n",
    "        else:\n",
    "            return 0\n",
    "        \n",
    "    def tirage_sum(self, x, v_ordered, lambda_ordered):\n",
    "        return sum([lambda_ordered[i]*self.tirage_uniform(x, v_ordered, i) for i in range(M)])\n",
    "    \n",
    "        "
   ]
  },
  {
   "cell_type": "code",
   "execution_count": 356,
   "metadata": {},
   "outputs": [],
   "source": [
    "T=200\n",
    "y, v = simulate_svgarch(gamma=0.01,alpha=0.925,beta=0.069, phi=0.1, T=200)"
   ]
  },
  {
   "cell_type": "code",
   "execution_count": 361,
   "metadata": {},
   "outputs": [],
   "source": [
    "# definition de la log-vraisemblance\n",
    "M = 25\n",
    "\n",
    "def neg_log_likelihood(theta): # theta = [gamma, alpha, beta, phi]\n",
    "    gamma, alpha, beta, phi = theta[0], theta[1], theta[2], theta[3]\n",
    "    l = sv_garch_filtering(y, gamma, alpha, beta, phi, M, T, malik=True)\n",
    "    m = l.full_cycle()\n",
    "    t = np.sum(m, axis=0)\n",
    "    return -np.sum(np.log(t))\n"
   ]
  },
  {
   "cell_type": "code",
   "execution_count": 362,
   "metadata": {},
   "outputs": [],
   "source": [
    "m = neg_log_likelihood(x0)"
   ]
  },
  {
   "cell_type": "code",
   "execution_count": null,
   "metadata": {},
   "outputs": [],
   "source": [
    "x0 = np.array([0.03, 0.5, 0.01, 0.05])\n",
    "max_vrais = -minimize(neg_log_likelihood, x0, \n",
    "                      method='Nelder-Mead', tol=1e-6).x"
   ]
  },
  {
   "cell_type": "code",
   "execution_count": null,
   "metadata": {},
   "outputs": [],
   "source": [
    "max_vrais"
   ]
  },
  {
   "cell_type": "code",
   "execution_count": 244,
   "metadata": {},
   "outputs": [],
   "source": [
    "m = np.random.uniform(1,2)"
   ]
  },
  {
   "cell_type": "code",
   "execution_count": 245,
   "metadata": {},
   "outputs": [
    {
     "data": {
      "text/plain": [
       "1.418799696648462"
      ]
     },
     "execution_count": 245,
     "metadata": {},
     "output_type": "execute_result"
    }
   ],
   "source": [
    "m"
   ]
  },
  {
   "cell_type": "code",
   "execution_count": null,
   "metadata": {},
   "outputs": [],
   "source": []
  }
 ],
 "metadata": {
  "kernelspec": {
   "display_name": "Python 3",
   "language": "python",
   "name": "python3"
  },
  "language_info": {
   "codemirror_mode": {
    "name": "ipython",
    "version": 3
   },
   "file_extension": ".py",
   "mimetype": "text/x-python",
   "name": "python",
   "nbconvert_exporter": "python",
   "pygments_lexer": "ipython3",
   "version": "3.7.4"
  }
 },
 "nbformat": 4,
 "nbformat_minor": 2
}
