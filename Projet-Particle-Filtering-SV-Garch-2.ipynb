{
 "cells": [
  {
   "cell_type": "code",
   "execution_count": 13,
   "metadata": {},
   "outputs": [],
   "source": [
    "## PARTIE 1: IMPLEMENTATION DE L'ESTIMATION CONTINUE DE LA VRAISEMBLANCE A L'AIDE D'UN FILTRE PARTICULAIRE\n",
    "\n",
    "import numpy as np\n",
    "import scipy.stats\n",
    "from scipy.stats import uniform\n",
    "import scipy.optimize\n",
    "from scipy.optimize import minimize\n",
    "import math\n",
    "import sympy\n",
    "from sympy import DiracDelta\n",
    "import matplotlib.pyplot as plt\n",
    "\n",
    "## Implementation du filtre a particule pour les SV-GARCH\n",
    "\n",
    "def initial_values(y, v, M, L, gamma, alpha, beta, phi): ## l est le lag choisit tel qu'indique dans l'article\n",
    "    v_L = [v[L] for k in range(M)]\n",
    "    for lag in range(L):\n",
    "        for i in range(M):\n",
    "            v_L[i] = (v_L[i]-gamma)/(alpha + beta*(phi*np.random.normal(0, 1, size = 1) + np.sqrt(1-phi**2)*np.random.normal(0, 1, size = 1))**2)\n",
    "    v_0 = v_L\n",
    "    return v_0\n",
    "    \n",
    "    \n",
    "def particle_filtering(y, v, M, L, gamma, alpha, beta, phi): #y is an array of observed data, v is an array of simulated particles, M is the FP sample size\n",
    "    v_sim = [[0 for k in range(M)] for m in range(len(y))]\n",
    "    v_f = v_sim\n",
    "    w = [[0 for k in range(M)] for m in range(len(y))] \n",
    "    l = [[0 for k in range(M)] for m in range(len(y))] # stocke les poids lambda de chaque simulation\n",
    "    ## on chope d'abord M valeurs v_0\n",
    "    v_0 = initial_values(y, v, M, L, gamma, alpha, beta, phi)\n",
    "    v_sim[0] = v_0\n",
    "    ## on execute la partie iterative de l'algorithme\n",
    "    for t in range(1,len(y)):\n",
    "        \n",
    "        for i in range(M):\n",
    "            v_sim[t][i] = gamma + alpha*v_sim[t-1][i] + beta*v_sim[t-1][i]*(phi*np.random.normal(0, 1, size = 1) + np.sqrt(1-phi**2)*np.random.normal(0, 1, size = 1))**2 #transitive kernel h_t+1|h_t,y_t\n",
    "            w[t][i] = (2*np.pi*v_sim[t][i])**(-0.5)*math.exp(-0.5*y[t]/v_sim[t][i]**(0.5))\n",
    "        for i in range(M):\n",
    "            l[t][i] = w[t][i]/(sum(w[t]))\n",
    "        \n",
    "        #v_sorted = [[0 for k in range(M)] for l in range(len(y))]\n",
    "        #v_sorted[i] = np.sort([v_sim[k][i] for k in range(len(y))])\n",
    "\n",
    "        def G(x, k, i):\n",
    "            #return uniform.cdf((x - v_sorted[i][k-1])/(v_sorted[i][k] - v_sorted[i][k-1]))\n",
    "            return uniform.cdf((x - v_sim[k-1][i])/(v_sim[k][i] - v_sim[k-1][i]))\n",
    "        def F(x, k):\n",
    "            return sum([l[k][i]*G(x, k, i) for i in range(M-1)])\n",
    "        \n",
    "        for j in range(M-1):\n",
    "            v_f[t][j] = F(v_sim[t][j], t)\n",
    "    return v_f"
   ]
  },
  {
   "cell_type": "code",
   "execution_count": 14,
   "metadata": {},
   "outputs": [],
   "source": [
    "def simulate_svgarch(gamma, alpha, beta, T): #alpha + beta < 1\n",
    "    y = [0 for t in range(T)]\n",
    "    v = [0 for t in range(T)]\n",
    "    v[0] = gamma/(1 - alpha - beta)\n",
    "    for t in range(T-1):\n",
    "        eps = np.random.normal(0 , 1, size = 1)\n",
    "        y[t] = np.sqrt(v[t])*eps\n",
    "        v[t+1] = gamma + alpha*v[t] + beta*y[t]**2\n",
    "    return y, v"
   ]
  },
  {
   "cell_type": "code",
   "execution_count": 29,
   "metadata": {},
   "outputs": [
    {
     "data": {
      "text/plain": [
       "[<matplotlib.lines.Line2D at 0x1a1bdc7650>]"
      ]
     },
     "execution_count": 29,
     "metadata": {},
     "output_type": "execute_result"
    },
    {
     "data": {
      "image/png": "[encoded data removed]",
      "text/plain": [
       "<Figure size 432x288 with 1 Axes>"
      ]
     },
     "metadata": {
      "needs_background": "light"
     },
     "output_type": "display_data"
    }
   ],
   "source": [
    "y, v = simulate_svgarch(1,0.3,0.4, 20)\n",
    "plt.plot(y)"
   ]
  },
  {
   "cell_type": "code",
   "execution_count": 30,
   "metadata": {},
   "outputs": [],
   "source": [
    "# definition de la log-vraisemblance\n",
    "M = 10\n",
    "l = 5\n",
    "\n",
    "def neg_log_likelihood(theta): # theta = [gamma, alpha, beta, phi]\n",
    "    filter_data = particle_filtering(y, v, M, l, theta[0], theta[1], theta[2], theta[3])\n",
    "    list_sum = []\n",
    "    for cur_fil in filter_data:\n",
    "        \n",
    "        cur_sum = sum(cur_fil)\n",
    "        list_sum.append(cur_sum)\n",
    "    return -sum(np.log(list_sum))"
   ]
  },
  {
   "cell_type": "code",
   "execution_count": 31,
   "metadata": {},
   "outputs": [],
   "source": [
    "#calcul du maximum de vraisemblance\n",
    "\n",
    "x0 = np.array([0.1, 0.1, 0.1, 0.1])\n",
    "max_vrais = -minimize(neg_log_likelihood, x0, method='Nelder-Mead', tol=1e-6).x"
   ]
  },
  {
   "cell_type": "code",
   "execution_count": null,
   "metadata": {},
   "outputs": [],
   "source": [
    "## PARTIE 3: TEST SUR DES DONNEES REELLES"
   ]
  }
 ],
 "metadata": {
  "kernelspec": {
   "display_name": "Python 3",
   "language": "python",
   "name": "python3"
  }
 },
 "nbformat": 4,
 "nbformat_minor": 2
}
